{
 "cells": [
  {
   "cell_type": "markdown",
   "metadata": {},
   "source": [
    "# Guessing Game Challenge\n",
    "\n",
    "Let's use `while` loops to create a guessing game.\n",
    "\n",
    "The Challenge:\n",
    "\n",
    "Write a program that picks a random integer from 1 to 100, and has players guess the number. The rules are:\n",
    "\n",
    "1. If a player's guess is less than 1 or greater than 100, say \"OUT OF BOUNDS\"\n",
    "2. On a player's first turn, if their guess is\n",
    " * within 10 of the number, return \"WARM!\"\n",
    " * further than 10 away from the number, return \"COLD!\"\n",
    "3. On all subsequent turns, if a guess is \n",
    " * closer to the number than the previous guess return \"WARMER!\"\n",
    " * farther from the number than the previous guess, return \"COLDER!\"\n",
    "4. When the player's guess equals the number, tell them they've guessed correctly *and* how many guesses it took!\n",
    "\n",
    "You can try this from scratch, or follow the steps outlined below. A separate Solution notebook has been provided. Good luck!\n"
   ]
  },
  {
   "cell_type": "markdown",
   "metadata": {},
   "source": [
    "#### First, pick a random integer from 1 to 100 using the random module and assign it to a variable\n",
    "\n",
    "Note: `random.randint(a,b)` returns a random integer in range `[a, b]`, including both end points."
   ]
  },
  {
   "cell_type": "code",
   "execution_count": 3,
   "metadata": {},
   "outputs": [],
   "source": [
    "from random import randint\n",
    "target = randint(1, 100)"
   ]
  },
  {
   "cell_type": "markdown",
   "metadata": {},
   "source": [
    "#### Next, print an introduction to the game and explain the rules"
   ]
  },
  {
   "cell_type": "code",
   "execution_count": 7,
   "metadata": {},
   "outputs": [
    {
     "name": "stdout",
     "output_type": "stream",
     "text": [
      "What is your name? Johnny\n",
      "\n",
      "Welcome Johnny! I have picked a number between 1 and 100. You have to guess this number.\n",
      "If you are within 10 of the number on your first try, I will tell you \"WARM!\".\n",
      "If you are further than 10 away from the number in your first try, I will tell you \"COLD!\"\n",
      "In all subsequent turns, if you guess closer to the number than the previous guess, I will tell you \"WARMER!\"\n",
      "If you are farther from the number than the previous guess, I will tell you \"COLDER!\"\n",
      "When you finally guess the right number, I will tell you how many guesses it took you :)\n",
      "Good luck ;)\n"
     ]
    }
   ],
   "source": [
    "name = input('What is your name? ')\n",
    "game_description = f'\\nWelcome {name}! I have picked a number between 1 and 100. You have to guess this number.'\\\n",
    "    '\\nIf you are within 10 of the number on your first try, I will tell you \"WARM!\".'\\\n",
    "    '\\nIf you are further than 10 away from the number in your first try, I will tell you \"COLD!\"'\\\n",
    "    '\\nIn all subsequent turns, if you guess closer to the number than the previous guess, I will tell you \"WARMER!\"'\\\n",
    "    '\\nIf you are farther from the number than the previous guess, I will tell you \"COLDER!\"'\\\n",
    "    '\\nWhen you finally guess the right number, I will tell you how many guesses it took you :)'\\\n",
    "    '\\nGood luck ;)'\n",
    "\n",
    "print(game_description)"
   ]
  },
  {
   "cell_type": "markdown",
   "metadata": {},
   "source": [
    "#### Create a list to store guesses\n",
    "\n",
    "Hint: zero is a good placeholder value. It's useful because it evaluates to \"False\""
   ]
  },
  {
   "cell_type": "code",
   "execution_count": 8,
   "metadata": {},
   "outputs": [],
   "source": [
    "l = []"
   ]
  },
  {
   "cell_type": "markdown",
   "metadata": {},
   "source": [
    "#### Write a `while` loop that asks for a valid guess. Test it a few times to make sure it works."
   ]
  },
  {
   "cell_type": "code",
   "execution_count": 11,
   "metadata": {},
   "outputs": [
    {
     "name": "stdout",
     "output_type": "stream",
     "text": [
      "Guess a number: 60\n",
      "Wrong :(\n",
      "Guess a number: 40\n",
      "Wrong :(\n",
      "Guess a number: 45\n",
      "Wrong :(\n",
      "Guess a number: 50\n",
      "Correct! Congrats!\n"
     ]
    }
   ],
   "source": [
    "target = 50\n",
    "while True:\n",
    "    guess = int(input('Guess a number: '))\n",
    "    l.append(guess)\n",
    "    if guess == target:\n",
    "        print('Correct! Congrats!')\n",
    "        break\n",
    "    else:\n",
    "        print('Wrong :(')"
   ]
  },
  {
   "cell_type": "code",
   "execution_count": 22,
   "metadata": {},
   "outputs": [
    {
     "name": "stdout",
     "output_type": "stream",
     "text": [
      "I'm thinking of a number between 1 and 100.\n",
      "  What is your guess? 10\n"
     ]
    }
   ],
   "source": [
    "# solution\n",
    "while True:\n",
    "    \n",
    "    guess = int(input(\"I'm thinking of a number between 1 and 100.\\n  What is your guess? \"))\n",
    "    \n",
    "    if guess < 1 or guess > 100:\n",
    "        print('OUT OF BOUNDS! Please try again: ')\n",
    "        continue\n",
    "        \n",
    "    break"
   ]
  },
  {
   "cell_type": "markdown",
   "metadata": {},
   "source": [
    "#### Write a `while` loop that compares the player's guess to our number. If the player guesses correctly, break from the loop. Otherwise, tell the player if they're warmer or colder, and continue asking for guesses.\n",
    "\n",
    "Some hints:\n",
    "* it may help to sketch out all possible combinations on paper first!\n",
    "* you can use the `abs()` function to find the positive difference between two numbers\n",
    "* if you append all new guesses to the list, then the previous guess is given as `guesses[-2]`"
   ]
  },
  {
   "cell_type": "code",
   "execution_count": 21,
   "metadata": {},
   "outputs": [
    {
     "name": "stdout",
     "output_type": "stream",
     "text": [
      "Guess a number: 50\n",
      "WARM!\n",
      "Guess a number: 45\n",
      "COLDER!\n",
      "Guess a number: 55\n",
      "WARMER!\n",
      "Guess a number: 60\n",
      "COLDER!\n",
      "Guess a number: 57\n",
      "COLDER!\n",
      "Guess a number: 58\n",
      "WARMER!\n",
      "Guess a number: 59\n",
      "Correct! Congrats! It took you 7 guesses\n"
     ]
    }
   ],
   "source": [
    "from random import randint\n",
    "target = randint(1, 100)\n",
    "#target = 52\n",
    "\n",
    "guesses = []\n",
    "\n",
    "#print('Target:', target)\n",
    "while True:    \n",
    "    guess = int(input('Guess a number: '))\n",
    "    guesses.append(guess)\n",
    "    \n",
    "    diff = target - guess\n",
    "    #print('Diff:', diff)\n",
    "    #print('Guesses so far:', guesses)\n",
    "\n",
    "    if diff != 0:\n",
    "        # first guess\n",
    "        if len(guesses) == 1:\n",
    "            if abs(diff) <= 10:\n",
    "                print('WARM!')\n",
    "            else:\n",
    "                print('COLD!')\n",
    "        \n",
    "        # subsequent guesses\n",
    "        else:\n",
    "            \n",
    "            # guess > target\n",
    "            if diff < 0:\n",
    "                if guess < guesses[-2]:\n",
    "                    print('WARMER!')\n",
    "                else:\n",
    "                    print('COLDER!')\n",
    "\n",
    "            # guess < target\n",
    "            elif diff > 0:\n",
    "                if guess > guesses[-2]:\n",
    "                    print('WARMER!')\n",
    "                else:\n",
    "                    print('COLDER!')\n",
    "    \n",
    "    # guess == target\n",
    "    else:\n",
    "        print('Correct! Congrats! It took you {} guesses'.format(len(guesses)))\n",
    "        break"
   ]
  },
  {
   "cell_type": "code",
   "execution_count": 23,
   "metadata": {},
   "outputs": [
    {
     "name": "stdout",
     "output_type": "stream",
     "text": [
      "I'm thinking of a number between 1 and 100.\n",
      "  What is your guess? 1000\n",
      "OUT OF BOUNDS! Please try again: \n",
      "I'm thinking of a number between 1 and 100.\n",
      "  What is your guess? 50\n",
      "COLD!\n",
      "I'm thinking of a number between 1 and 100.\n",
      "  What is your guess? 25\n",
      "COLDER!\n",
      "I'm thinking of a number between 1 and 100.\n",
      "  What is your guess? 75\n",
      "WARMER!\n",
      "I'm thinking of a number between 1 and 100.\n",
      "  What is your guess? 80\n",
      "WARMER!\n",
      "I'm thinking of a number between 1 and 100.\n",
      "  What is your guess? 85\n",
      "WARMER!\n",
      "I'm thinking of a number between 1 and 100.\n",
      "  What is your guess? 90\n",
      "COLDER!\n",
      "I'm thinking of a number between 1 and 100.\n",
      "  What is your guess? 87\n",
      "WARMER!\n",
      "I'm thinking of a number between 1 and 100.\n",
      "  What is your guess? 86\n",
      "CONGRATULATIONS, YOU GUESSED IT IN ONLY 8 GUESSES!!\n"
     ]
    }
   ],
   "source": [
    "# solution\n",
    "import random\n",
    "\n",
    "num = random.randint(1,100)\n",
    "\n",
    "guesses = [0]\n",
    "\n",
    "while True:\n",
    "\n",
    "    # we can copy the code from above to take an input\n",
    "    guess = int(input(\"I'm thinking of a number between 1 and 100.\\n  What is your guess? \"))\n",
    "    \n",
    "    # NOTE: should always handle errors!\n",
    "    if guess < 1 or guess > 100:\n",
    "        print('OUT OF BOUNDS! Please try again: ')\n",
    "        continue\n",
    "    \n",
    "    # here we compare the player's guess to our number\n",
    "    if guess == num:\n",
    "        print(f'CONGRATULATIONS, YOU GUESSED IT IN ONLY {len(guesses)} GUESSES!!')\n",
    "        break\n",
    "        \n",
    "    # if guess is incorrect, add guess to the list\n",
    "    guesses.append(guess)\n",
    "    \n",
    "    # when testing the first guess, guesses[-2]==0, which evaluates to False\n",
    "    # and brings us down to the second section\n",
    "    \n",
    "    if guesses[-2]:  \n",
    "        if abs(num-guess) < abs(num-guesses[-2]):\n",
    "            print('WARMER!')\n",
    "        else:\n",
    "            print('COLDER!')\n",
    "   \n",
    "    else:\n",
    "        if abs(num-guess) <= 10:\n",
    "            print('WARM!')\n",
    "        else:\n",
    "            print('COLD!')"
   ]
  },
  {
   "cell_type": "markdown",
   "metadata": {},
   "source": [
    "That's it! You've just programmed your first game!\n",
    "\n",
    "In the next section we'll learn how to turn some of these repetitive actions into *functions* that can be called whenever we need them."
   ]
  },
  {
   "cell_type": "markdown",
   "metadata": {},
   "source": [
    "### Good Job!"
   ]
  }
 ],
 "metadata": {
  "kernelspec": {
   "display_name": "Python 3",
   "language": "python",
   "name": "python3"
  },
  "language_info": {
   "codemirror_mode": {
    "name": "ipython",
    "version": 3
   },
   "file_extension": ".py",
   "mimetype": "text/x-python",
   "name": "python",
   "nbconvert_exporter": "python",
   "pygments_lexer": "ipython3",
   "version": "3.6.5"
  }
 },
 "nbformat": 4,
 "nbformat_minor": 2
}
